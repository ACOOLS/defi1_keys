{
  "nbformat": 4,
  "nbformat_minor": 0,
  "metadata": {
    "colab": {
      "name": "localisation_keys.ipynb",
      "provenance": [],
      "collapsed_sections": []
    },
    "kernelspec": {
      "name": "python3",
      "display_name": "Python 3"
    },
    "accelerator": "GPU"
  },
  "cells": [
    {
      "cell_type": "markdown",
      "metadata": {
        "id": "adPUemMsX9wo",
        "colab_type": "text"
      },
      "source": [
        "#   1. Tester le GPU\n",
        "\n"
      ]
    },
    {
      "cell_type": "code",
      "metadata": {
        "id": "V4znZoAYXwif",
        "colab_type": "code",
        "colab": {}
      },
      "source": [
        "!nvidia-smi"
      ],
      "execution_count": 0,
      "outputs": []
    },
    {
      "cell_type": "markdown",
      "metadata": {
        "id": "tgv7OvuuMG-0",
        "colab_type": "text"
      },
      "source": [
        "# 2. Cloner le répertoire"
      ]
    },
    {
      "cell_type": "code",
      "metadata": {
        "id": "B093EqnzIT44",
        "colab_type": "code",
        "colab": {}
      },
      "source": [
        "!git clone https://github.com/ACOOLS/keras_yolov3"
      ],
      "execution_count": 0,
      "outputs": []
    },
    {
      "cell_type": "markdown",
      "metadata": {
        "id": "0sS8baRtMMHc",
        "colab_type": "text"
      },
      "source": [
        "# 3. Installation des librairies nécessaires\n"
      ]
    },
    {
      "cell_type": "code",
      "metadata": {
        "id": "HhGTkYqYw4Zd",
        "colab_type": "code",
        "colab": {}
      },
      "source": [
        "!pip install keras_preprocessing==1.0.5"
      ],
      "execution_count": 0,
      "outputs": []
    },
    {
      "cell_type": "code",
      "metadata": {
        "id": "gv4HLBEF4Hvd",
        "colab_type": "code",
        "colab": {}
      },
      "source": [
        "!pip install keras_applications==1.0.7"
      ],
      "execution_count": 0,
      "outputs": []
    },
    {
      "cell_type": "code",
      "metadata": {
        "id": "WPxZOnOf4Jv8",
        "colab_type": "code",
        "colab": {}
      },
      "source": [
        "!pip install keras==2.2.0"
      ],
      "execution_count": 0,
      "outputs": []
    },
    {
      "cell_type": "code",
      "metadata": {
        "id": "QEcPuTdv49Er",
        "colab_type": "code",
        "colab": {}
      },
      "source": [
        "!pip install keras_applications==1.0.7"
      ],
      "execution_count": 0,
      "outputs": []
    },
    {
      "cell_type": "markdown",
      "metadata": {
        "id": "5kYR-DR0a_Uh",
        "colab_type": "text"
      },
      "source": [
        "## 5.Vérification l'installation des paquets "
      ]
    },
    {
      "cell_type": "code",
      "metadata": {
        "id": "JtbYi5ZRSPPd",
        "colab_type": "code",
        "colab": {}
      },
      "source": [
        "from tensorflow.python.client import device_lib\n",
        "device_lib.list_local_devices()"
      ],
      "execution_count": 0,
      "outputs": []
    },
    {
      "cell_type": "markdown",
      "metadata": {
        "id": "kn54GMQ_GGim",
        "colab_type": "text"
      },
      "source": [
        "# 6. Pointer vers le dossier du projet"
      ]
    },
    {
      "cell_type": "code",
      "metadata": {
        "id": "jyD1v-N95HZF",
        "colab_type": "code",
        "colab": {}
      },
      "source": [
        "cd keras_yolov3/"
      ],
      "execution_count": 0,
      "outputs": []
    },
    {
      "cell_type": "markdown",
      "metadata": {
        "id": "sDVuzp6XYRlR",
        "colab_type": "text"
      },
      "source": [
        "# 7. Téléchargement du dossier des images de clé, le background et les faces #\n",
        "\n",
        "\n"
      ]
    },
    {
      "cell_type": "code",
      "metadata": {
        "id": "F_7eq83hdgJz",
        "colab_type": "code",
        "colab": {}
      },
      "source": [
        "!wget https://github.com/belarbi2733/keras_yolov3/releases/download/1/key_wb.zip\n",
        "!wget https://github.com/belarbi2733/keras_yolov3/releases/download/1/bckgrnd.zip\n",
        "!wget https://github.com/ACOOLS/mon_code/releases/download/face/gender_dataset_face.zip "
      ],
      "execution_count": 0,
      "outputs": []
    },
    {
      "cell_type": "markdown",
      "metadata": {
        "id": "Ra_t4HPnZFWK",
        "colab_type": "text"
      },
      "source": [
        " # 8.   Décompresser les trois fichiers .zip #\n",
        "\n",
        "\n"
      ]
    },
    {
      "cell_type": "code",
      "metadata": {
        "id": "q_B-pfloZSvB",
        "colab_type": "code",
        "colab": {}
      },
      "source": [
        "!unzip bckgrnd.zip\n",
        "!unzip key_wb.zip\n",
        "!unzip gender_dataset_face.zip"
      ],
      "execution_count": 0,
      "outputs": []
    },
    {
      "cell_type": "markdown",
      "metadata": {
        "id": "kkXEoEhiZotH",
        "colab_type": "text"
      },
      "source": [
        "\n",
        "\n",
        "# 9.   Mixer le backgound avec les clés #\n",
        "\n",
        "\n"
      ]
    },
    {
      "cell_type": "code",
      "metadata": {
        "id": "DGa3tTsPUzaq",
        "colab_type": "code",
        "colab": {}
      },
      "source": [
        "!rm -r annotations.csv\n",
        "!rm -r keys_and_background/"
      ],
      "execution_count": 0,
      "outputs": []
    },
    {
      "cell_type": "code",
      "metadata": {
        "id": "-wSV4g_ZZl0z",
        "colab_type": "code",
        "colab": {}
      },
      "source": [
        "!python keys_with_background.py --keys \"key_wb\" --background \"bckgrnd\" --output \"keys_and_background\""
      ],
      "execution_count": 0,
      "outputs": []
    },
    {
      "cell_type": "markdown",
      "metadata": {
        "id": "K2kNcHIMg6bW",
        "colab_type": "text"
      },
      "source": [
        "\n",
        "\n",
        "**Ajouter les annotations des faces au fichier annotations.csv\n",
        "\n"
      ]
    },
    {
      "cell_type": "code",
      "metadata": {
        "id": "3pFiwpttX6bw",
        "colab_type": "code",
        "colab": {}
      },
      "source": [
        "!rm -r gender_dataset_face/.*"
      ],
      "execution_count": 0,
      "outputs": []
    },
    {
      "cell_type": "code",
      "metadata": {
        "id": "Nm_nwnAJVF9x",
        "colab_type": "code",
        "colab": {}
      },
      "source": [
        "!python face_csv.py"
      ],
      "execution_count": 0,
      "outputs": []
    },
    {
      "cell_type": "markdown",
      "metadata": {
        "id": "Wx7FcVker6Dg",
        "colab_type": "text"
      },
      "source": [
        "# 10.   Télécharger le fichier yolov3.weights #"
      ]
    },
    {
      "cell_type": "code",
      "metadata": {
        "id": "VBBYjZK_hpKd",
        "colab_type": "code",
        "colab": {}
      },
      "source": [
        "!wget https://pjreddie.com/media/files/yolov3.weights"
      ],
      "execution_count": 0,
      "outputs": []
    },
    {
      "cell_type": "markdown",
      "metadata": {
        "id": "Y7UIgzCksScx",
        "colab_type": "text"
      },
      "source": [
        "# 11. Convertir le fichier yolov3.weights en model tensorflow#\n"
      ]
    },
    {
      "cell_type": "code",
      "metadata": {
        "id": "CGZpC4S8rjhf",
        "colab_type": "code",
        "colab": {}
      },
      "source": [
        "!python convert.py yolov3.cfg yolov3.weights model_data/yolo_weights.h5"
      ],
      "execution_count": 0,
      "outputs": []
    },
    {
      "cell_type": "markdown",
      "metadata": {
        "id": "urXmRf5etsTC",
        "colab_type": "text"
      },
      "source": [
        "# 12. Lancer l'entrainement #\n",
        "\n",
        "\n"
      ]
    },
    {
      "cell_type": "markdown",
      "metadata": {
        "id": "QIJU6lInLMde",
        "colab_type": "text"
      },
      "source": [
        "####Train with frozen layers first, to get a stable loss. Adjust num epochs to your dataset. This step is enough to obtain a not bad model."
      ]
    },
    {
      "cell_type": "code",
      "metadata": {
        "id": "Muh55sWbs1q6",
        "colab_type": "code",
        "colab": {}
      },
      "source": [
        "!python train1.py --initial_epoch1 0 --epoch1 75 --batch_size1 16  --annotation 'annotations.csv' --classes 'model_data/key_classes.txt' --anchors 'model_data/yolo_anchors.txt' "
      ],
      "execution_count": 0,
      "outputs": []
    },
    {
      "cell_type": "markdown",
      "metadata": {
        "id": "9MSgCGH3LZ3h",
        "colab_type": "text"
      },
      "source": [
        " #### Unfreeze and continue training, to fine-tune. Train longer if the result is not good."
      ]
    },
    {
      "cell_type": "code",
      "metadata": {
        "id": "zQDYPNmcLYvh",
        "colab_type": "code",
        "colab": {}
      },
      "source": [
        "!python train2.py --initial_epoch2 75 --epoch2 150 --batch_size2 8 --annotation 'annotations.csv' --classes 'model_data/key_classes.txt' --anchors 'model_data/yolo_anchors.txt' "
      ],
      "execution_count": 0,
      "outputs": []
    },
    {
      "cell_type": "markdown",
      "metadata": {
        "id": "63Crchcc4mBr",
        "colab_type": "text"
      },
      "source": [
        "# 13. Télécharger la base de test et tester le résultat#"
      ]
    },
    {
      "cell_type": "code",
      "metadata": {
        "id": "vwOhyI6L_Jzb",
        "colab_type": "code",
        "colab": {}
      },
      "source": [
        "!wget https://github.com/ACOOLS/mon_code/releases/download/test/test.zip"
      ],
      "execution_count": 0,
      "outputs": []
    },
    {
      "cell_type": "code",
      "metadata": {
        "id": "kmozUxNV_LKW",
        "colab_type": "code",
        "colab": {}
      },
      "source": [
        "!unzip test.zip"
      ],
      "execution_count": 0,
      "outputs": []
    },
    {
      "cell_type": "code",
      "metadata": {
        "id": "b9i1uofuz3EL",
        "colab_type": "code",
        "colab": {}
      },
      "source": [
        "import os\n",
        "from IPython.display import display, Image, SVG, Math, YouTubeVideo\n",
        "\n",
        "image_path =\"test\"\n",
        "\n",
        "!python test_yolo.py --image --input=\"test\"  --model 'weights_yolo_train/trained_weights_final.h5' --classes 'model_data/key_classes.txt' --anchors 'model_data/yolo_anchors.txt' \n"
      ],
      "execution_count": 0,
      "outputs": []
    },
    {
      "cell_type": "markdown",
      "metadata": {
        "id": "FzX2xKMcsO-J",
        "colab_type": "text"
      },
      "source": [
        "\n",
        "\n",
        "# 14.   Afficher le résulat #\n",
        "\n",
        "\n"
      ]
    },
    {
      "cell_type": "code",
      "metadata": {
        "id": "4N7ag8TB_YZo",
        "colab_type": "code",
        "colab": {}
      },
      "source": [
        "from IPython.display import display, Image, SVG, Math, YouTubeVideo\n",
        "result_path=\"results_test\"\n",
        "import cv2\n",
        "%matplotlib inline\n",
        "from matplotlib import pyplot as plt\n",
        "\n",
        "# load class names\n",
        "k=0\n",
        "for j in os.listdir(result_path): \n",
        "  current_image=os.path.join(result_path,j)\n",
        "  img = cv2.imread(current_image)\n",
        "  plt.imshow(img)\n",
        "  plt.show()\n",
        "\n"
      ],
      "execution_count": 0,
      "outputs": []
    },
    {
      "cell_type": "markdown",
      "metadata": {
        "id": "8x28wYj7ka9-",
        "colab_type": "text"
      },
      "source": [
        "### **15. Tester sur une vidéo**"
      ]
    },
    {
      "cell_type": "code",
      "metadata": {
        "id": "1-1AQKwhkaWH",
        "colab_type": "code",
        "colab": {}
      },
      "source": [
        "!python test_yolo.py  --input \"video-1573678618.mp4\" --output \"video_after.mp4\"  --model 'ep138-loss5.570-val_loss5.466.h5' --classes 'model_data/key_classes.txt' --anchors 'model_data/yolo_anchors.txt' "
      ],
      "execution_count": 0,
      "outputs": []
    }
  ]
}